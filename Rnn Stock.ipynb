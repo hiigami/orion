{
 "cells": [
  {
   "cell_type": "code",
   "execution_count": 8,
   "metadata": {},
   "outputs": [],
   "source": [
    "import numpy as np\n",
    "import matplotlib.pyplot as plt\n",
    "import pandas as pd\n",
    "\n",
    "# Reading CSV file into training set\n",
    "tesla_data = pd.read_csv('ml/rnn/TSLA.csv')\n",
    "\n",
    "# Getting relevant feature\n",
    "tesla_data = tesla_data.iloc[:,1:2]\n",
    "\n",
    "tesla_data = tesla_data.values\n",
    "\n",
    "# Feature Scaling\n",
    "from sklearn.preprocessing import MinMaxScaler\n",
    "sc = MinMaxScaler()\n",
    "training_set = sc.fit_transform(tesla_data[:-200])\n",
    "test_set = tesla_data[-200:] # Not necesary to scale\n",
    "\n",
    "# Getting the inputs and the ouputs\n",
    "X_train = training_set[:len(training_set) - 2]\n",
    "y_train = training_set[1:len(training_set) - 1]\n",
    "\n",
    "X_train = np.asarray( [X_train] )\n",
    "y_train = np.asarray( [y_train] )\n",
    "\n",
    "# We feed the rnn with the last \"known\" 100 days\n",
    "test_begin = tesla_data[-300:-200]\n"
   ]
  },
  {
   "cell_type": "code",
   "execution_count": 6,
   "metadata": {},
   "outputs": [],
   "source": [
    "%run -i 'ml/rnn/rnn.py'"
   ]
  },
  {
   "cell_type": "code",
   "execution_count": 7,
   "metadata": {},
   "outputs": [
    {
     "data": {
      "text/plain": [
       "<__main__.RNN at 0x7faf8dbbb780>"
      ]
     },
     "execution_count": 7,
     "metadata": {},
     "output_type": "execute_result"
    }
   ],
   "source": [
    "RNN(100)"
   ]
  },
  {
   "cell_type": "code",
   "execution_count": null,
   "metadata": {},
   "outputs": [],
   "source": []
  }
 ],
 "metadata": {
  "kernelspec": {
   "display_name": "Python 3",
   "language": "python",
   "name": "python3"
  },
  "language_info": {
   "codemirror_mode": {
    "name": "ipython",
    "version": 3
   },
   "file_extension": ".py",
   "mimetype": "text/x-python",
   "name": "python",
   "nbconvert_exporter": "python",
   "pygments_lexer": "ipython3",
   "version": "3.5.2"
  }
 },
 "nbformat": 4,
 "nbformat_minor": 2
}
